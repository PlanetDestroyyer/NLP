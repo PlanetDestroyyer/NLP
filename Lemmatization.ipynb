{
  "nbformat": 4,
  "nbformat_minor": 0,
  "metadata": {
    "colab": {
      "provenance": [],
      "authorship_tag": "ABX9TyN+j17ry93vOFBPmKrZrjku",
      "include_colab_link": true
    },
    "kernelspec": {
      "name": "python3",
      "display_name": "Python 3"
    },
    "language_info": {
      "name": "python"
    }
  },
  "cells": [
    {
      "cell_type": "markdown",
      "metadata": {
        "id": "view-in-github",
        "colab_type": "text"
      },
      "source": [
        "<a href=\"https://colab.research.google.com/github/PlanetDestroyyer/NLP/blob/main/Lemmatization.ipynb\" target=\"_parent\"><img src=\"https://colab.research.google.com/assets/colab-badge.svg\" alt=\"Open In Colab\"/></a>"
      ]
    },
    {
      "cell_type": "code",
      "source": [
        "import nltk\n",
        "nltk.download('wordnet')"
      ],
      "metadata": {
        "colab": {
          "base_uri": "https://localhost:8080/"
        },
        "id": "w4WGsBJeOYgE",
        "outputId": "0fc22678-5f65-4dae-e71f-790950da53a9"
      },
      "execution_count": 5,
      "outputs": [
        {
          "output_type": "stream",
          "name": "stderr",
          "text": [
            "[nltk_data] Downloading package wordnet to /root/nltk_data...\n"
          ]
        },
        {
          "output_type": "execute_result",
          "data": {
            "text/plain": [
              "True"
            ]
          },
          "metadata": {},
          "execution_count": 5
        }
      ]
    },
    {
      "cell_type": "code",
      "execution_count": 6,
      "metadata": {
        "id": "ARB8kVacMOEl"
      },
      "outputs": [],
      "source": [
        "from nltk import WordNetLemmatizer"
      ]
    },
    {
      "cell_type": "code",
      "source": [
        "lemmatizer = WordNetLemmatizer()"
      ],
      "metadata": {
        "id": "RDklJT1tN85W"
      },
      "execution_count": 7,
      "outputs": []
    },
    {
      "cell_type": "code",
      "source": [
        "words = ['eating','eaten','ate','eat','running','ran','run','history','going','gone']"
      ],
      "metadata": {
        "id": "2HTg8RssOCB5"
      },
      "execution_count": 8,
      "outputs": []
    },
    {
      "cell_type": "markdown",
      "source": [
        "as nouns"
      ],
      "metadata": {
        "id": "zKHGjz8bOyLu"
      }
    },
    {
      "cell_type": "code",
      "source": [
        "for word in words:\n",
        "    print(f\"{word} -----> {lemmatizer.lemmatize(word,pos='a')}\")"
      ],
      "metadata": {
        "colab": {
          "base_uri": "https://localhost:8080/"
        },
        "id": "fjIQLwPwOQ5n",
        "outputId": "64ca81f5-c36d-460e-a6b5-d12356c93548"
      },
      "execution_count": 13,
      "outputs": [
        {
          "output_type": "stream",
          "name": "stdout",
          "text": [
            "eating -----> eating\n",
            "eaten -----> eaten\n",
            "ate -----> ate\n",
            "eat -----> eat\n",
            "running -----> running\n",
            "ran -----> ran\n",
            "run -----> run\n",
            "history -----> history\n",
            "going -----> going\n",
            "gone -----> gone\n"
          ]
        }
      ]
    },
    {
      "cell_type": "markdown",
      "source": [
        "as verb"
      ],
      "metadata": {
        "id": "qPHE_ee8O3b7"
      }
    },
    {
      "cell_type": "code",
      "source": [
        "for word in words:\n",
        "    print(f\"{word} -----> {lemmatizer.lemmatize(word,pos='v')}\")"
      ],
      "metadata": {
        "colab": {
          "base_uri": "https://localhost:8080/"
        },
        "id": "E0o2EpTuOUuz",
        "outputId": "8f057a6f-cee6-485b-8572-c748399266a6"
      },
      "execution_count": 14,
      "outputs": [
        {
          "output_type": "stream",
          "name": "stdout",
          "text": [
            "eating -----> eat\n",
            "eaten -----> eat\n",
            "ate -----> eat\n",
            "eat -----> eat\n",
            "running -----> run\n",
            "ran -----> run\n",
            "run -----> run\n",
            "history -----> history\n",
            "going -----> go\n",
            "gone -----> go\n"
          ]
        }
      ]
    },
    {
      "cell_type": "markdown",
      "source": [
        "as Adjective"
      ],
      "metadata": {
        "id": "cT7fqAPYPAaK"
      }
    },
    {
      "cell_type": "code",
      "source": [
        "for word in words:\n",
        "    print(f\"{word} -----> {lemmatizer.lemmatize(word,pos='a')}\")"
      ],
      "metadata": {
        "colab": {
          "base_uri": "https://localhost:8080/"
        },
        "id": "cIb0TRW3O-DP",
        "outputId": "1deb4d07-21e1-4601-f077-5ff78b267571"
      },
      "execution_count": 15,
      "outputs": [
        {
          "output_type": "stream",
          "name": "stdout",
          "text": [
            "eating -----> eating\n",
            "eaten -----> eaten\n",
            "ate -----> ate\n",
            "eat -----> eat\n",
            "running -----> running\n",
            "ran -----> ran\n",
            "run -----> run\n",
            "history -----> history\n",
            "going -----> going\n",
            "gone -----> gone\n"
          ]
        }
      ]
    },
    {
      "cell_type": "code",
      "source": [],
      "metadata": {
        "id": "aBdX7_xlPGH-"
      },
      "execution_count": null,
      "outputs": []
    }
  ]
}