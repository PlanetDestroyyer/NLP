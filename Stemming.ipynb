{
  "nbformat": 4,
  "nbformat_minor": 0,
  "metadata": {
    "colab": {
      "provenance": [],
      "authorship_tag": "ABX9TyOMiclm9+Zo4DKoq36VDUcp",
      "include_colab_link": true
    },
    "kernelspec": {
      "name": "python3",
      "display_name": "Python 3"
    },
    "language_info": {
      "name": "python"
    }
  },
  "cells": [
    {
      "cell_type": "markdown",
      "metadata": {
        "id": "view-in-github",
        "colab_type": "text"
      },
      "source": [
        "<a href=\"https://colab.research.google.com/github/PlanetDestroyyer/NLP/blob/main/Stemming.ipynb\" target=\"_parent\"><img src=\"https://colab.research.google.com/assets/colab-badge.svg\" alt=\"Open In Colab\"/></a>"
      ]
    },
    {
      "cell_type": "code",
      "execution_count": 1,
      "metadata": {
        "id": "3ceN8TqM_vbg"
      },
      "outputs": [],
      "source": [
        "import nltk"
      ]
    },
    {
      "cell_type": "code",
      "source": [
        "words = ['Eating','eaten','running','run','going','writing','wrote','programming','program','history']"
      ],
      "metadata": {
        "id": "lv_f4nHmAwwU"
      },
      "execution_count": 6,
      "outputs": []
    },
    {
      "cell_type": "code",
      "source": [
        "from nltk.stem import PorterStemmer"
      ],
      "metadata": {
        "id": "QefogeB2A-3p"
      },
      "execution_count": 7,
      "outputs": []
    },
    {
      "cell_type": "code",
      "source": [
        "stemming = PorterStemmer()"
      ],
      "metadata": {
        "id": "hL8KLY1GBDwu"
      },
      "execution_count": 8,
      "outputs": []
    },
    {
      "cell_type": "code",
      "source": [
        "for word in words:\n",
        "  print(f\"{word}--->{stemming.stem(word)}\")"
      ],
      "metadata": {
        "colab": {
          "base_uri": "https://localhost:8080/"
        },
        "id": "OnUQUQMVBLxI",
        "outputId": "a702ac86-6c1d-4084-eecb-621bc5a44d65"
      },
      "execution_count": 9,
      "outputs": [
        {
          "output_type": "stream",
          "name": "stdout",
          "text": [
            "Eating--->eat\n",
            "eaten--->eaten\n",
            "running--->run\n",
            "run--->run\n",
            "going--->go\n",
            "writing--->write\n",
            "wrote--->wrote\n",
            "programming--->program\n",
            "program--->program\n",
            "history--->histori\n"
          ]
        }
      ]
    },
    {
      "cell_type": "code",
      "source": [
        "from nltk.stem import RegexpStemmer"
      ],
      "metadata": {
        "id": "IUaA2VuQBY_m"
      },
      "execution_count": 10,
      "outputs": []
    },
    {
      "cell_type": "code",
      "source": [
        "rexstem = RegexpStemmer('ing$|s$|e$|able$', min=4)"
      ],
      "metadata": {
        "id": "pMAtoGt3Jw8Q"
      },
      "execution_count": 12,
      "outputs": []
    },
    {
      "cell_type": "code",
      "source": [
        "for word in words:\n",
        "  print(f\"{word}--->{rexstem.stem(word)}\")"
      ],
      "metadata": {
        "colab": {
          "base_uri": "https://localhost:8080/"
        },
        "id": "sX5Ro7B6J0gr",
        "outputId": "8744bf25-0057-4aae-82df-db9d5daed6c0"
      },
      "execution_count": 13,
      "outputs": [
        {
          "output_type": "stream",
          "name": "stdout",
          "text": [
            "Eating--->Eat\n",
            "eaten--->eaten\n",
            "running--->runn\n",
            "run--->run\n",
            "going--->go\n",
            "writing--->writ\n",
            "wrote--->wrot\n",
            "programming--->programm\n",
            "program--->program\n",
            "history--->history\n"
          ]
        }
      ]
    },
    {
      "cell_type": "code",
      "source": [
        "from nltk import SnowballStemmer"
      ],
      "metadata": {
        "id": "vN87FGufKOk0"
      },
      "execution_count": 14,
      "outputs": []
    },
    {
      "cell_type": "code",
      "source": [
        "snowstem = SnowballStemmer(language='english')"
      ],
      "metadata": {
        "id": "6aYBZ-BWKxeP"
      },
      "execution_count": 18,
      "outputs": []
    },
    {
      "cell_type": "code",
      "source": [
        "for word in words:\n",
        "  print(f\"{word}--->{snowstem.stem(word)}\")"
      ],
      "metadata": {
        "colab": {
          "base_uri": "https://localhost:8080/"
        },
        "id": "UuSx1JJtK04d",
        "outputId": "0928474a-b2eb-434c-b615-23908e83091a"
      },
      "execution_count": 19,
      "outputs": [
        {
          "output_type": "stream",
          "name": "stdout",
          "text": [
            "Eating--->eat\n",
            "eaten--->eaten\n",
            "running--->run\n",
            "run--->run\n",
            "going--->go\n",
            "writing--->write\n",
            "wrote--->wrote\n",
            "programming--->program\n",
            "program--->program\n",
            "history--->histori\n"
          ]
        }
      ]
    },
    {
      "cell_type": "code",
      "source": [],
      "metadata": {
        "id": "0HEfDM6ULNdI"
      },
      "execution_count": null,
      "outputs": []
    }
  ]
}